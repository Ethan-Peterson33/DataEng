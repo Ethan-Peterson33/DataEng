{
 "cells": [
  {
   "cell_type": "code",
   "execution_count": 13,
   "id": "45b5eefe-84db-416d-b7bc-9ae233f3be91",
   "metadata": {},
   "outputs": [
    {
     "name": "stdout",
     "output_type": "stream",
     "text": [
      "Defaulting to user installation because normal site-packages is not writeable\n",
      "Requirement already satisfied: dlt[duckdb] in /home/Ethan/.local/lib/python3.8/site-packages (0.4.2)\n",
      "Requirement already satisfied: PyYAML>=5.4.1 in /home/Ethan/.local/lib/python3.8/site-packages (from dlt[duckdb]) (6.0.1)\n",
      "Requirement already satisfied: SQLAlchemy>=1.4.0 in /home/Ethan/.local/lib/python3.8/site-packages (from dlt[duckdb]) (2.0.25)\n",
      "Requirement already satisfied: astunparse>=1.6.3 in /home/Ethan/.local/lib/python3.8/site-packages (from dlt[duckdb]) (1.6.3)\n",
      "Requirement already satisfied: click>=7.1 in /home/Ethan/.local/lib/python3.8/site-packages (from dlt[duckdb]) (8.1.7)\n",
      "Requirement already satisfied: fsspec>=2022.4.0 in /home/Ethan/.local/lib/python3.8/site-packages (from dlt[duckdb]) (2024.2.0)\n",
      "Requirement already satisfied: gitpython>=3.1.29 in /home/Ethan/.local/lib/python3.8/site-packages (from dlt[duckdb]) (3.1.41)\n",
      "Requirement already satisfied: giturlparse>=0.10.0 in /home/Ethan/.local/lib/python3.8/site-packages (from dlt[duckdb]) (0.12.0)\n",
      "Requirement already satisfied: hexbytes>=0.2.2 in /home/Ethan/.local/lib/python3.8/site-packages (from dlt[duckdb]) (1.0.0)\n",
      "Requirement already satisfied: humanize>=4.4.0 in /home/Ethan/.local/lib/python3.8/site-packages (from dlt[duckdb]) (4.9.0)\n",
      "Requirement already satisfied: jsonpath-ng>=1.5.3 in /home/Ethan/.local/lib/python3.8/site-packages (from dlt[duckdb]) (1.6.1)\n",
      "Requirement already satisfied: makefun>=1.15.0 in /home/Ethan/.local/lib/python3.8/site-packages (from dlt[duckdb]) (1.15.2)\n",
      "Requirement already satisfied: orjson>=3.6.7 in /home/Ethan/.local/lib/python3.8/site-packages (from dlt[duckdb]) (3.9.13)\n",
      "Requirement already satisfied: packaging>=21.1 in /home/Ethan/.local/lib/python3.8/site-packages (from dlt[duckdb]) (23.2)\n",
      "Requirement already satisfied: pathvalidate>=2.5.2 in /home/Ethan/.local/lib/python3.8/site-packages (from dlt[duckdb]) (3.2.0)\n",
      "Requirement already satisfied: pendulum>=2.1.2 in /home/Ethan/.local/lib/python3.8/site-packages (from dlt[duckdb]) (3.0.0)\n",
      "Requirement already satisfied: pytz>=2022.6 in /home/Ethan/.local/lib/python3.8/site-packages (from dlt[duckdb]) (2023.3.post1)\n",
      "Requirement already satisfied: requests>=2.26.0 in /home/Ethan/.local/lib/python3.8/site-packages (from dlt[duckdb]) (2.31.0)\n",
      "Requirement already satisfied: requirements-parser>=0.5.0 in /home/Ethan/.local/lib/python3.8/site-packages (from dlt[duckdb]) (0.5.0)\n",
      "Requirement already satisfied: semver>=2.13.0 in /home/Ethan/.local/lib/python3.8/site-packages (from dlt[duckdb]) (3.0.2)\n",
      "Requirement already satisfied: setuptools>=65.6.0 in /home/Ethan/.local/lib/python3.8/site-packages (from dlt[duckdb]) (69.0.3)\n",
      "Requirement already satisfied: simplejson>=3.17.5 in /home/Ethan/.local/lib/python3.8/site-packages (from dlt[duckdb]) (3.19.2)\n",
      "Requirement already satisfied: tenacity>=8.0.2 in /home/Ethan/.local/lib/python3.8/site-packages (from dlt[duckdb]) (8.2.3)\n",
      "Requirement already satisfied: tomlkit>=0.11.3 in /home/Ethan/.local/lib/python3.8/site-packages (from dlt[duckdb]) (0.12.3)\n",
      "Requirement already satisfied: typing-extensions>=4.0.0 in /home/Ethan/.local/lib/python3.8/site-packages (from dlt[duckdb]) (4.9.0)\n",
      "Requirement already satisfied: tzdata>=2022.1 in /home/Ethan/.local/lib/python3.8/site-packages (from dlt[duckdb]) (2023.4)\n",
      "Requirement already satisfied: duckdb<0.10.0,>=0.6.1 in /home/Ethan/.local/lib/python3.8/site-packages (from dlt[duckdb]) (0.9.2)\n",
      "Requirement already satisfied: wheel<1.0,>=0.23.0 in /usr/lib/python3/dist-packages (from astunparse>=1.6.3->dlt[duckdb]) (0.34.2)\n",
      "Requirement already satisfied: six<2.0,>=1.6.1 in /usr/lib/python3/dist-packages (from astunparse>=1.6.3->dlt[duckdb]) (1.14.0)\n",
      "Requirement already satisfied: gitdb<5,>=4.0.1 in /home/Ethan/.local/lib/python3.8/site-packages (from gitpython>=3.1.29->dlt[duckdb]) (4.0.11)\n",
      "Requirement already satisfied: ply in /home/Ethan/.local/lib/python3.8/site-packages (from jsonpath-ng>=1.5.3->dlt[duckdb]) (3.11)\n",
      "Requirement already satisfied: python-dateutil>=2.6 in /home/Ethan/.local/lib/python3.8/site-packages (from pendulum>=2.1.2->dlt[duckdb]) (2.8.2)\n",
      "Requirement already satisfied: backports.zoneinfo>=0.2.1 in /home/Ethan/.local/lib/python3.8/site-packages (from pendulum>=2.1.2->dlt[duckdb]) (0.2.1)\n",
      "Requirement already satisfied: time-machine>=2.6.0 in /home/Ethan/.local/lib/python3.8/site-packages (from pendulum>=2.1.2->dlt[duckdb]) (2.13.0)\n",
      "Requirement already satisfied: importlib-resources>=5.9.0 in /home/Ethan/.local/lib/python3.8/site-packages (from pendulum>=2.1.2->dlt[duckdb]) (6.1.1)\n",
      "Requirement already satisfied: charset-normalizer<4,>=2 in /home/Ethan/.local/lib/python3.8/site-packages (from requests>=2.26.0->dlt[duckdb]) (3.3.2)\n",
      "Requirement already satisfied: idna<4,>=2.5 in /usr/lib/python3/dist-packages (from requests>=2.26.0->dlt[duckdb]) (2.8)\n",
      "Requirement already satisfied: urllib3<3,>=1.21.1 in /home/Ethan/.local/lib/python3.8/site-packages (from requests>=2.26.0->dlt[duckdb]) (2.1.0)\n",
      "Requirement already satisfied: certifi>=2017.4.17 in /usr/lib/python3/dist-packages (from requests>=2.26.0->dlt[duckdb]) (2019.11.28)\n",
      "Requirement already satisfied: types-setuptools>=57.0.0 in /home/Ethan/.local/lib/python3.8/site-packages (from requirements-parser>=0.5.0->dlt[duckdb]) (69.0.0.20240125)\n",
      "Requirement already satisfied: greenlet!=0.4.17 in /home/Ethan/.local/lib/python3.8/site-packages (from SQLAlchemy>=1.4.0->dlt[duckdb]) (3.0.3)\n",
      "Requirement already satisfied: smmap<6,>=3.0.1 in /home/Ethan/.local/lib/python3.8/site-packages (from gitdb<5,>=4.0.1->gitpython>=3.1.29->dlt[duckdb]) (5.0.1)\n",
      "Requirement already satisfied: zipp>=3.1.0 in /home/Ethan/.local/lib/python3.8/site-packages (from importlib-resources>=5.9.0->pendulum>=2.1.2->dlt[duckdb]) (3.17.0)\n"
     ]
    }
   ],
   "source": [
    "!pip install dlt[duckdb] # Install dlt with all the necessary DuckDB dependencies"
   ]
  },
  {
   "cell_type": "code",
   "execution_count": 6,
   "id": "740028b9-bdf8-42f9-a35e-8a1d767c6244",
   "metadata": {},
   "outputs": [
    {
     "name": "stdout",
     "output_type": "stream",
     "text": [
      "1.0\n",
      "2.414213562373095\n",
      "4.146264369941973\n",
      "6.146264369941973\n",
      "8.382332347441762\n"
     ]
    }
   ],
   "source": [
    "def square_root_generator(limit):\n",
    "    n = 1\n",
    "    while n <= limit:\n",
    "        yield n ** 0.5\n",
    "        n += 1\n",
    "\n",
    "# Example usage:\n",
    "limit =5\n",
    "generator = square_root_generator(limit)\n",
    "answer = 0\n",
    "for sqrt_value in generator:\n",
    "    answer+=sqrt_value\n",
    "    print(answer)\n",
    "    #print(sqrt_value)"
   ]
  },
  {
   "cell_type": "code",
   "execution_count": 7,
   "id": "c693bb64-977b-41b5-a669-1bf5c0ea054d",
   "metadata": {},
   "outputs": [
    {
     "name": "stdout",
     "output_type": "stream",
     "text": [
      "1.0\n",
      "1.4142135623730951\n",
      "1.7320508075688772\n",
      "2.0\n",
      "2.23606797749979\n",
      "2.449489742783178\n",
      "2.6457513110645907\n",
      "2.8284271247461903\n",
      "3.0\n",
      "3.1622776601683795\n",
      "3.3166247903554\n",
      "3.4641016151377544\n",
      "3.605551275463989\n"
     ]
    }
   ],
   "source": [
    "def square_root_generator(limit):\n",
    "    n = 1\n",
    "    while n <= limit:\n",
    "        yield n ** 0.5\n",
    "        n += 1\n",
    "\n",
    "# Example usage:\n",
    "limit =13\n",
    "generator = square_root_generator(limit)\n",
    "answer = 0\n",
    "for sqrt_value in generator:\n",
    "    answer+=sqrt_value\n",
    "    #print(answer)\n",
    "    print(sqrt_value)"
   ]
  },
  {
   "cell_type": "code",
   "execution_count": 37,
   "id": "d6095d04-c14c-46e6-a5c3-8bf3712d4bb3",
   "metadata": {},
   "outputs": [],
   "source": [
    "import dlt\n",
    "\n",
    "\n",
    "generators_pipeline = dlt.pipeline(destination='duckdb', dataset_name='generators')"
   ]
  },
  {
   "cell_type": "code",
   "execution_count": 38,
   "id": "9b2c9295-ac6a-4db6-94fa-3edc48ec7848",
   "metadata": {},
   "outputs": [
    {
     "name": "stdout",
     "output_type": "stream",
     "text": [
      "{'ID': 1, 'Name': 'Person_1', 'Age': 26, 'City': 'City_A'}\n",
      "{'ID': 2, 'Name': 'Person_2', 'Age': 27, 'City': 'City_A'}\n",
      "{'ID': 3, 'Name': 'Person_3', 'Age': 28, 'City': 'City_A'}\n",
      "{'ID': 4, 'Name': 'Person_4', 'Age': 29, 'City': 'City_A'}\n",
      "{'ID': 5, 'Name': 'Person_5', 'Age': 30, 'City': 'City_A'}\n",
      "{'ID': 3, 'Name': 'Person_3', 'Age': 33, 'City': 'City_B', 'Occupation': 'Job_3'}\n",
      "{'ID': 4, 'Name': 'Person_4', 'Age': 34, 'City': 'City_B', 'Occupation': 'Job_4'}\n",
      "{'ID': 5, 'Name': 'Person_5', 'Age': 35, 'City': 'City_B', 'Occupation': 'Job_5'}\n",
      "{'ID': 6, 'Name': 'Person_6', 'Age': 36, 'City': 'City_B', 'Occupation': 'Job_6'}\n",
      "{'ID': 7, 'Name': 'Person_7', 'Age': 37, 'City': 'City_B', 'Occupation': 'Job_7'}\n",
      "{'ID': 8, 'Name': 'Person_8', 'Age': 38, 'City': 'City_B', 'Occupation': 'Job_8'}\n"
     ]
    }
   ],
   "source": [
    "\n",
    "\n",
    "\n",
    "\n",
    "def people_1():\n",
    "    for i in range(1, 6):\n",
    "        yield {\"ID\": i, \"Name\": f\"Person_{i}\", \"Age\": 25 + i, \"City\": \"City_A\"}\n",
    "\n",
    "for person in people_1():\n",
    "    print(person)\n",
    "\n",
    "\n",
    "\n",
    "\n",
    "def people_2():\n",
    "    for i in range(3, 9):\n",
    "        yield {\"ID\": i, \"Name\": f\"Person_{i}\", \"Age\": 30 + i, \"City\": \"City_B\", \"Occupation\": f\"Job_{i}\"}\n",
    "\n",
    "\n",
    "for person in people_2():\n",
    "    print(person)\n",
    "\n",
    "\n"
   ]
  },
  {
   "cell_type": "code",
   "execution_count": 51,
   "id": "397a1f03-1efb-4e49-a5bd-18d82583e9d0",
   "metadata": {},
   "outputs": [
    {
     "name": "stdout",
     "output_type": "stream",
     "text": [
      "Pipeline dlt_ipykernel_launcher load step completed in 0.17 seconds\n",
      "1 load package(s) were loaded to destination duckdb and into dataset generators\n",
      "The duckdb destination used duckdb:////home/Ethan/Data_Ingestion_week3/Workshop/dlt_ipykernel_launcher.duckdb location to store data\n",
      "Load package 1707262799.2518358 is LOADED and contains no failed jobs\n",
      "Pipeline dlt_ipykernel_launcher load step completed in 0.17 seconds\n",
      "1 load package(s) were loaded to destination duckdb and into dataset generators\n",
      "The duckdb destination used duckdb:////home/Ethan/Data_Ingestion_week3/Workshop/dlt_ipykernel_launcher.duckdb location to store data\n",
      "Load package 1707262799.8189814 is LOADED and contains no failed jobs\n"
     ]
    }
   ],
   "source": [
    "info = generators_pipeline.run(people_1(),\n",
    "\t\t\t\t\t\t\t\t\t\ttable_name=\"people\",\n",
    "\t\t\t\t\t\t\t\t\t\twrite_disposition=\"replace\" \n",
    "                                        )\n",
    "\n",
    "print(info)\n",
    "\n",
    "\n",
    "info = generators_pipeline.run(people_2(),\n",
    "\t\t\t\t\t\t\t\t\t\ttable_name=\"people\",\n",
    "\t\t\t\t\t\t\t\t\t\twrite_disposition=\"append\")\n",
    "print(info)"
   ]
  },
  {
   "cell_type": "code",
   "execution_count": 52,
   "id": "12ed64bc-ef15-4d93-84c4-43001a4d2d40",
   "metadata": {},
   "outputs": [
    {
     "name": "stdout",
     "output_type": "stream",
     "text": [
      "Loaded tables: \n"
     ]
    },
    {
     "data": {
      "text/plain": [
       "┌─────────────────────┐\n",
       "│        name         │\n",
       "│       varchar       │\n",
       "├─────────────────────┤\n",
       "│ _dlt_loads          │\n",
       "│ _dlt_pipeline_state │\n",
       "│ _dlt_version        │\n",
       "│ people              │\n",
       "└─────────────────────┘"
      ]
     },
     "metadata": {},
     "output_type": "display_data"
    },
    {
     "data": {
      "text/html": [
       "<div>\n",
       "<style scoped>\n",
       "    .dataframe tbody tr th:only-of-type {\n",
       "        vertical-align: middle;\n",
       "    }\n",
       "\n",
       "    .dataframe tbody tr th {\n",
       "        vertical-align: top;\n",
       "    }\n",
       "\n",
       "    .dataframe thead th {\n",
       "        text-align: right;\n",
       "    }\n",
       "</style>\n",
       "<table border=\"1\" class=\"dataframe\">\n",
       "  <thead>\n",
       "    <tr style=\"text-align: right;\">\n",
       "      <th></th>\n",
       "      <th>sum(age)</th>\n",
       "    </tr>\n",
       "  </thead>\n",
       "  <tbody>\n",
       "    <tr>\n",
       "      <th>0</th>\n",
       "      <td>353.0</td>\n",
       "    </tr>\n",
       "  </tbody>\n",
       "</table>\n",
       "</div>"
      ],
      "text/plain": [
       "   sum(age)\n",
       "0     353.0"
      ]
     },
     "metadata": {},
     "output_type": "display_data"
    }
   ],
   "source": [
    "import duckdb\n",
    "\n",
    "conn = duckdb.connect(f\"{generators_pipeline.pipeline_name}.duckdb\")\n",
    "\n",
    "\n",
    "conn.sql(f\"SET search_path = '{generators_pipeline.dataset_name}'\")\n",
    "print('Loaded tables: ')\n",
    "display(conn.sql(\"show tables\"))\n",
    "\n",
    "\n",
    "rides = conn.sql(\"SELECT sum(age) FROM people\").df()\n",
    "display(rides)"
   ]
  },
  {
   "cell_type": "code",
   "execution_count": 57,
   "id": "aace21bf-f87a-44cd-95f8-539cc9d4c880",
   "metadata": {},
   "outputs": [
    {
     "name": "stdout",
     "output_type": "stream",
     "text": [
      "Pipeline dlt_ipykernel_launcher load step completed in 0.21 seconds\n",
      "1 load package(s) were loaded to destination duckdb and into dataset generators\n",
      "The duckdb destination used duckdb:////home/Ethan/Data_Ingestion_week3/Workshop/dlt_ipykernel_launcher.duckdb location to store data\n",
      "Load package 1707263528.4171999 is LOADED and contains no failed jobs\n",
      "Pipeline dlt_ipykernel_launcher load step completed in 0.31 seconds\n",
      "1 load package(s) were loaded to destination duckdb and into dataset generators\n",
      "The duckdb destination used duckdb:////home/Ethan/Data_Ingestion_week3/Workshop/dlt_ipykernel_launcher.duckdb location to store data\n",
      "Load package 1707263529.0278184 is LOADED and contains no failed jobs\n"
     ]
    }
   ],
   "source": [
    "info = generators_pipeline.run(people_1(),\n",
    "\t\t\t\t\t\t\t\t\t\ttable_name=\"people2\",\n",
    "\t\t\t\t\t\t\t\t\t\twrite_disposition=\"replace\" ,\n",
    "                                        primary_key=\"ID\"\n",
    "                                        )\n",
    "\n",
    "print(info)\n",
    "\n",
    "\n",
    "info = generators_pipeline.run(people_2(),\n",
    "\t\t\t\t\t\t\t\t\t\ttable_name=\"people2\",\n",
    "\t\t\t\t\t\t\t\t\t\twrite_disposition=\"merge\", \n",
    "                                        primary_key=\"ID\")\n",
    "print(info)"
   ]
  },
  {
   "cell_type": "code",
   "execution_count": 58,
   "id": "bb736553-f9e5-4212-8358-b37249f4090f",
   "metadata": {},
   "outputs": [
    {
     "name": "stdout",
     "output_type": "stream",
     "text": [
      "Loaded tables: \n"
     ]
    },
    {
     "data": {
      "text/plain": [
       "┌─────────────────────┐\n",
       "│        name         │\n",
       "│       varchar       │\n",
       "├─────────────────────┤\n",
       "│ _dlt_loads          │\n",
       "│ _dlt_pipeline_state │\n",
       "│ _dlt_version        │\n",
       "│ people              │\n",
       "│ people2             │\n",
       "└─────────────────────┘"
      ]
     },
     "metadata": {},
     "output_type": "display_data"
    },
    {
     "data": {
      "text/html": [
       "<div>\n",
       "<style scoped>\n",
       "    .dataframe tbody tr th:only-of-type {\n",
       "        vertical-align: middle;\n",
       "    }\n",
       "\n",
       "    .dataframe tbody tr th {\n",
       "        vertical-align: top;\n",
       "    }\n",
       "\n",
       "    .dataframe thead th {\n",
       "        text-align: right;\n",
       "    }\n",
       "</style>\n",
       "<table border=\"1\" class=\"dataframe\">\n",
       "  <thead>\n",
       "    <tr style=\"text-align: right;\">\n",
       "      <th></th>\n",
       "      <th>sum(age)</th>\n",
       "    </tr>\n",
       "  </thead>\n",
       "  <tbody>\n",
       "    <tr>\n",
       "      <th>0</th>\n",
       "      <td>266.0</td>\n",
       "    </tr>\n",
       "  </tbody>\n",
       "</table>\n",
       "</div>"
      ],
      "text/plain": [
       "   sum(age)\n",
       "0     266.0"
      ]
     },
     "metadata": {},
     "output_type": "display_data"
    }
   ],
   "source": [
    "\n",
    "\n",
    "conn.sql(f\"SET search_path = '{generators_pipeline.dataset_name}'\")\n",
    "print('Loaded tables: ')\n",
    "display(conn.sql(\"show tables\"))\n",
    "\n",
    "\n",
    "rides = conn.sql(\"SELECT sum(age) FROM people2\").df()\n",
    "display(rides)"
   ]
  },
  {
   "cell_type": "code",
   "execution_count": null,
   "id": "64dad10a-1f94-438d-a340-e15babe46011",
   "metadata": {},
   "outputs": [],
   "source": []
  }
 ],
 "metadata": {
  "kernelspec": {
   "display_name": "Python 3 (ipykernel)",
   "language": "python",
   "name": "python3"
  },
  "language_info": {
   "codemirror_mode": {
    "name": "ipython",
    "version": 3
   },
   "file_extension": ".py",
   "mimetype": "text/x-python",
   "name": "python",
   "nbconvert_exporter": "python",
   "pygments_lexer": "ipython3",
   "version": "3.8.10"
  }
 },
 "nbformat": 4,
 "nbformat_minor": 5
}
