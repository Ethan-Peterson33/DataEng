{
 "cells": [
  {
   "cell_type": "code",
   "execution_count": 1,
   "id": "56991d0a-bd80-483d-8f3e-8f40b9314648",
   "metadata": {},
   "outputs": [],
   "source": [
    "import findspark\n",
    "findspark.init()\n",
    "\n",
    "#from the spark dir run this command to create a cluster  ./sbin/start-master.sh\n",
    "#Get master location from port 8080 \n",
    "\n",
    "import pyspark\n",
    "from pyspark.sql import SparkSession\n",
    "\n",
    "spark = SparkSession.builder \\\n",
    "    .master(\"spark://de-zoomcamp-bb.us-east4-c.c.astral-volt-411512.internal:7077\") \\\n",
    "    .appName('test') \\\n",
    "    .getOrCreate()\n",
    "#./sbin/start-worker.sh to start worker while in the spark dir"
   ]
  },
  {
   "cell_type": "code",
   "execution_count": 2,
   "id": "0ff22efe-7879-4fe7-a8d8-5b3136e7a183",
   "metadata": {},
   "outputs": [
    {
     "name": "stderr",
     "output_type": "stream",
     "text": [
      "Setting default log level to \"WARN\".\n",
      "To adjust logging level use sc.setLogLevel(newLevel). For SparkR, use setLogLevel(newLevel).\n"
     ]
    },
    {
     "name": "stdout",
     "output_type": "stream",
     "text": [
      "24/02/27 23:45:44 WARN NativeCodeLoader: Unable to load native-hadoop library for your platform... using builtin-java classes where applicable\n"
     ]
    }
   ],
   "source": [
    "spark = SparkSession.builder \\\n",
    "    .master(\"local[*]\") \\\n",
    "    .appName('test') \\\n",
    "    .getOrCreate()"
   ]
  },
  {
   "cell_type": "code",
   "execution_count": 5,
   "id": "39a75168-1fd1-492b-b837-4a47cb506581",
   "metadata": {},
   "outputs": [],
   "source": [
    "import pandas as pd\n"
   ]
  },
  {
   "cell_type": "code",
   "execution_count": 3,
   "id": "a847b5ef-6aa4-4b32-8ace-33ae06f68e0a",
   "metadata": {},
   "outputs": [
    {
     "name": "stderr",
     "output_type": "stream",
     "text": [
      "                                                                                \r"
     ]
    }
   ],
   "source": [
    "#load Green Taxi Data\n",
    "\n",
    "df_green = spark.read.parquet('data/pq/green/*/*')"
   ]
  },
  {
   "cell_type": "code",
   "execution_count": 4,
   "id": "31842dfa-6fbd-4c2a-aeba-a6726210569b",
   "metadata": {},
   "outputs": [
    {
     "name": "stdout",
     "output_type": "stream",
     "text": [
      "root\n",
      " |-- VendorID: integer (nullable = true)\n",
      " |-- lpep_pickup_datetime: timestamp (nullable = true)\n",
      " |-- lpep_dropoff_datetime: timestamp (nullable = true)\n",
      " |-- store_and_fwd_flag: string (nullable = true)\n",
      " |-- RatecodeID: integer (nullable = true)\n",
      " |-- PULocationID: integer (nullable = true)\n",
      " |-- DOLocationID: integer (nullable = true)\n",
      " |-- passenger_count: integer (nullable = true)\n",
      " |-- trip_distance: double (nullable = true)\n",
      " |-- fare_amount: double (nullable = true)\n",
      " |-- extra: double (nullable = true)\n",
      " |-- mta_tax: double (nullable = true)\n",
      " |-- tip_amount: double (nullable = true)\n",
      " |-- tolls_amount: double (nullable = true)\n",
      " |-- ehail_fee: double (nullable = true)\n",
      " |-- improvement_surcharge: double (nullable = true)\n",
      " |-- total_amount: double (nullable = true)\n",
      " |-- payment_type: integer (nullable = true)\n",
      " |-- trip_type: integer (nullable = true)\n",
      " |-- congestion_surcharge: double (nullable = true)\n",
      "\n"
     ]
    }
   ],
   "source": [
    "df_green.printSchema()\n"
   ]
  },
  {
   "cell_type": "code",
   "execution_count": 5,
   "id": "99eb1825-d102-488f-abac-dc12d80a8161",
   "metadata": {},
   "outputs": [],
   "source": [
    "#load Yellow Taxi Data\n",
    "\n",
    "df_yellow = spark.read.parquet('data/pq/yellow/*/*')"
   ]
  },
  {
   "cell_type": "code",
   "execution_count": 6,
   "id": "d388c20b-61e5-4305-8ddf-a2192db08adf",
   "metadata": {},
   "outputs": [],
   "source": [
    "#Rename pickup and dropoff times in green data\n",
    "\n",
    "df_green = df_green \\\n",
    "    .withColumnRenamed('lpep_pickup_datetime','pickup_datetime') \\\n",
    "    .withColumnRenamed('lpep_dropoff_datetime', 'dropoff_datetime')\n",
    "\n",
    "#Rename pickup and dropoff times in yellow data\n",
    "df_yellow = df_yellow \\\n",
    ".withColumnRenamed('tpep_pickup_datetime','pickup_datetime') \\\n",
    ".withColumnRenamed('tpep_dropoff_datetime', 'dropoff_datetime')"
   ]
  },
  {
   "cell_type": "code",
   "execution_count": 7,
   "id": "8fcc3dfa-06de-40ce-805a-9df686feac2d",
   "metadata": {},
   "outputs": [
    {
     "name": "stdout",
     "output_type": "stream",
     "text": [
      "root\n",
      " |-- VendorID: integer (nullable = true)\n",
      " |-- pickup_datetime: timestamp (nullable = true)\n",
      " |-- dropoff_datetime: timestamp (nullable = true)\n",
      " |-- passenger_count: integer (nullable = true)\n",
      " |-- trip_distance: double (nullable = true)\n",
      " |-- RatecodeID: integer (nullable = true)\n",
      " |-- store_and_fwd_flag: string (nullable = true)\n",
      " |-- PULocationID: integer (nullable = true)\n",
      " |-- DOLocationID: integer (nullable = true)\n",
      " |-- payment_type: integer (nullable = true)\n",
      " |-- fare_amount: double (nullable = true)\n",
      " |-- extra: double (nullable = true)\n",
      " |-- mta_tax: double (nullable = true)\n",
      " |-- tip_amount: double (nullable = true)\n",
      " |-- tolls_amount: double (nullable = true)\n",
      " |-- improvement_surcharge: double (nullable = true)\n",
      " |-- total_amount: double (nullable = true)\n",
      " |-- congestion_surcharge: double (nullable = true)\n",
      "\n"
     ]
    }
   ],
   "source": [
    "df_yellow.printSchema()"
   ]
  },
  {
   "cell_type": "code",
   "execution_count": 8,
   "id": "9b5f5c7b-5bcc-466d-8e1c-125866717d61",
   "metadata": {},
   "outputs": [
    {
     "data": {
      "text/plain": [
       "['VendorID',\n",
       " 'pickup_datetime',\n",
       " 'dropoff_datetime',\n",
       " 'store_and_fwd_flag',\n",
       " 'RatecodeID',\n",
       " 'PULocationID',\n",
       " 'DOLocationID',\n",
       " 'passenger_count',\n",
       " 'trip_distance',\n",
       " 'fare_amount',\n",
       " 'extra',\n",
       " 'mta_tax',\n",
       " 'tip_amount',\n",
       " 'tolls_amount',\n",
       " 'ehail_fee',\n",
       " 'improvement_surcharge',\n",
       " 'total_amount',\n",
       " 'payment_type',\n",
       " 'trip_type',\n",
       " 'congestion_surcharge']"
      ]
     },
     "execution_count": 8,
     "metadata": {},
     "output_type": "execute_result"
    }
   ],
   "source": [
    "df_green.columns"
   ]
  },
  {
   "cell_type": "code",
   "execution_count": 9,
   "id": "493b9cbe-1131-426a-9a54-6b9961af0227",
   "metadata": {},
   "outputs": [
    {
     "data": {
      "text/plain": [
       "['VendorID',\n",
       " 'pickup_datetime',\n",
       " 'dropoff_datetime',\n",
       " 'passenger_count',\n",
       " 'trip_distance',\n",
       " 'RatecodeID',\n",
       " 'store_and_fwd_flag',\n",
       " 'PULocationID',\n",
       " 'DOLocationID',\n",
       " 'payment_type',\n",
       " 'fare_amount',\n",
       " 'extra',\n",
       " 'mta_tax',\n",
       " 'tip_amount',\n",
       " 'tolls_amount',\n",
       " 'improvement_surcharge',\n",
       " 'total_amount',\n",
       " 'congestion_surcharge']"
      ]
     },
     "execution_count": 9,
     "metadata": {},
     "output_type": "execute_result"
    }
   ],
   "source": [
    "df_yellow.columns"
   ]
  },
  {
   "cell_type": "code",
   "execution_count": 10,
   "id": "68a53e05-7b93-4cb5-a1be-83343dc0b064",
   "metadata": {},
   "outputs": [
    {
     "data": {
      "text/plain": [
       "{'DOLocationID',\n",
       " 'PULocationID',\n",
       " 'RatecodeID',\n",
       " 'VendorID',\n",
       " 'congestion_surcharge',\n",
       " 'dropoff_datetime',\n",
       " 'extra',\n",
       " 'fare_amount',\n",
       " 'improvement_surcharge',\n",
       " 'mta_tax',\n",
       " 'passenger_count',\n",
       " 'payment_type',\n",
       " 'pickup_datetime',\n",
       " 'store_and_fwd_flag',\n",
       " 'tip_amount',\n",
       " 'tolls_amount',\n",
       " 'total_amount',\n",
       " 'trip_distance'}"
      ]
     },
     "execution_count": 10,
     "metadata": {},
     "output_type": "execute_result"
    }
   ],
   "source": [
    "#find the common columns between tables \n",
    "set(df_green.columns) & set(df_yellow.columns)"
   ]
  },
  {
   "cell_type": "code",
   "execution_count": 11,
   "id": "33e9678b-2f48-448d-811c-f4ae89e8542e",
   "metadata": {},
   "outputs": [],
   "source": [
    "common_coloumns = []\n",
    "\n",
    "yellow_columns = set(df_yellow.columns)\n",
    "\n",
    "for col in df_green.columns:\n",
    "    if col in yellow_columns:\n",
    "        common_coloumns.append(col)"
   ]
  },
  {
   "cell_type": "code",
   "execution_count": 12,
   "id": "c03ff441-ae28-4fff-84d0-6cab36d82cdd",
   "metadata": {},
   "outputs": [
    {
     "data": {
      "text/plain": [
       "['VendorID',\n",
       " 'pickup_datetime',\n",
       " 'dropoff_datetime',\n",
       " 'store_and_fwd_flag',\n",
       " 'RatecodeID',\n",
       " 'PULocationID',\n",
       " 'DOLocationID',\n",
       " 'passenger_count',\n",
       " 'trip_distance',\n",
       " 'fare_amount',\n",
       " 'extra',\n",
       " 'mta_tax',\n",
       " 'tip_amount',\n",
       " 'tolls_amount',\n",
       " 'improvement_surcharge',\n",
       " 'total_amount',\n",
       " 'payment_type',\n",
       " 'congestion_surcharge']"
      ]
     },
     "execution_count": 12,
     "metadata": {},
     "output_type": "execute_result"
    }
   ],
   "source": [
    "common_coloumns =['VendorID',\n",
    " 'pickup_datetime',\n",
    " 'dropoff_datetime',\n",
    " 'store_and_fwd_flag',\n",
    " 'RatecodeID',\n",
    " 'PULocationID',\n",
    " 'DOLocationID',\n",
    " 'passenger_count',\n",
    " 'trip_distance',\n",
    " 'fare_amount',\n",
    " 'extra',\n",
    " 'mta_tax',\n",
    " 'tip_amount',\n",
    " 'tolls_amount',\n",
    " 'improvement_surcharge',\n",
    " 'total_amount',\n",
    " 'payment_type',\n",
    " 'congestion_surcharge']\n"
   ]
  },
  {
   "cell_type": "code",
   "execution_count": 13,
   "id": "de8ffbff-1ea1-49f7-9ddd-04953683961e",
   "metadata": {},
   "outputs": [],
   "source": [
    "from pyspark.sql import functions as f"
   ]
  },
  {
   "cell_type": "code",
   "execution_count": 14,
   "id": "76b029ca-875d-4c4d-af67-6c2136ee1ce9",
   "metadata": {},
   "outputs": [],
   "source": [
    "df_green_sel = df_green.select(common_coloumns) \\\n",
    "    .withColumn('service_type',f.lit('green'))"
   ]
  },
  {
   "cell_type": "code",
   "execution_count": 15,
   "id": "5187793f-a9a3-43ce-8570-a627d3cac045",
   "metadata": {},
   "outputs": [],
   "source": [
    "df_yellow_sel = df_yellow.select(common_coloumns) \\\n",
    "    .withColumn('service_type',f.lit('yellow'))"
   ]
  },
  {
   "cell_type": "code",
   "execution_count": 16,
   "id": "ac9c362d-bcfb-4991-a182-547b7f33d52a",
   "metadata": {},
   "outputs": [],
   "source": [
    "df_trips_data = df_yellow_sel.unionAll(df_green_sel)"
   ]
  },
  {
   "cell_type": "code",
   "execution_count": 17,
   "id": "f1a621ab-bb50-4419-9afd-02a2a3160957",
   "metadata": {},
   "outputs": [
    {
     "name": "stderr",
     "output_type": "stream",
     "text": [
      "[Stage 2:==========================================>              (12 + 4) / 16]\r"
     ]
    },
    {
     "name": "stdout",
     "output_type": "stream",
     "text": [
      "+------------+--------+\n",
      "|service_type|   count|\n",
      "+------------+--------+\n",
      "|      yellow|39649199|\n",
      "|       green| 2304517|\n",
      "+------------+--------+\n",
      "\n"
     ]
    },
    {
     "name": "stderr",
     "output_type": "stream",
     "text": [
      "                                                                                \r"
     ]
    }
   ],
   "source": [
    "df_trips_data.groupBy('service_type').count().show()"
   ]
  },
  {
   "cell_type": "code",
   "execution_count": 18,
   "id": "3c1e45c4-39dd-48f0-b25c-9d450087ecb4",
   "metadata": {},
   "outputs": [
    {
     "name": "stderr",
     "output_type": "stream",
     "text": [
      "/home/Ethan/spark/spark-3.3.2-bin-hadoop3/python/pyspark/sql/dataframe.py:229: FutureWarning: Deprecated in 2.0, use createOrReplaceTempView instead.\n",
      "  warnings.warn(\"Deprecated in 2.0, use createOrReplaceTempView instead.\", FutureWarning)\n"
     ]
    }
   ],
   "source": [
    "df_trips_data.registerTempTable('trips_data')"
   ]
  },
  {
   "cell_type": "code",
   "execution_count": 27,
   "id": "2bdacf60-7372-49ba-8729-5f870167917d",
   "metadata": {},
   "outputs": [],
   "source": [
    "# Use triple quotes for multi-line strings\n",
    "df_result = spark.sql( \"\"\"\n",
    " SELECT\n",
    "    -- Reveneue grouping \n",
    "    PULocationID as revenue_zone,\n",
    "   date_trunc(\"month\", \"pickup_datetime\")  as revenue_month, \n",
    "\n",
    "    service_type, \n",
    "\n",
    "    -- Revenue calculation \n",
    "    SUM(fare_amount) AS revenue_monthly_fare,\n",
    "    SUM(extra) AS revenue_monthly_extra,\n",
    "    SUM(mta_tax) AS revenue_monthly_mta_tax,\n",
    "    SUM(tip_amount) AS revenue_monthly_tip_amount,\n",
    "    SUM(tolls_amount) AS revenue_monthly_tolls_amount,\n",
    "    SUM(improvement_surcharge) AS revenue_monthly_improvement_surcharge,\n",
    "    SUM(total_amount) AS revenue_monthly_total_amount,\n",
    "\n",
    "    -- Additional calculations\n",
    "    AVG(passenger_count) AS avg_monthly_passenger_count,\n",
    "    AVG(trip_distance) AS avg_monthly_trip_distance\n",
    "\n",
    "    FROM trips_data\n",
    "    GROUP BY 1,2,3\n",
    "\"\"\")\n"
   ]
  },
  {
   "cell_type": "code",
   "execution_count": 28,
   "id": "2756f450-fbd1-4d5b-b9cd-f3760d14e5a3",
   "metadata": {},
   "outputs": [
    {
     "name": "stderr",
     "output_type": "stream",
     "text": [
      "[Stage 26:====================================================>   (15 + 1) / 16]\r"
     ]
    },
    {
     "name": "stdout",
     "output_type": "stream",
     "text": [
      "+------------+-------------+------------+--------------------+---------------------+-----------------------+--------------------------+----------------------------+-------------------------------------+----------------------------+---------------------------+-------------------------+\n",
      "|revenue_zone|revenue_month|service_type|revenue_monthly_fare|revenue_monthly_extra|revenue_monthly_mta_tax|revenue_monthly_tip_amount|revenue_monthly_tolls_amount|revenue_monthly_improvement_surcharge|revenue_monthly_total_amount|avg_monthly_passenger_count|avg_monthly_trip_distance|\n",
      "+------------+-------------+------------+--------------------+---------------------+-----------------------+--------------------------+----------------------------+-------------------------------------+----------------------------+---------------------------+-------------------------+\n",
      "|         131|         null|      yellow|  121304.70000000001|    4488.400000000001|                 1831.5|                   4034.29|                     6075.39|                   1159.8000000000004|          139113.43000000002|         1.1738148984198646|       126.42215056526206|\n",
      "|         206|         null|      yellow|            19267.47|                185.1|                  163.0|                    517.21|           2540.560000000001|                   100.50000000000007|          22844.690000000002|         1.1940298507462686|       15.378908554572268|\n",
      "|          16|         null|      yellow|   94434.84000000008|              3051.35|                 1284.5|                    3353.9|          3562.0500000000015|                    809.3999999999965|           106645.5400000001|         1.0946822308690014|        90.13523809523812|\n",
      "|         180|         null|      yellow|   51970.58999999999|              1333.54|                  683.0|                   1923.15|           2422.290000000001|                    437.3999999999994|          58902.070000000014|         1.2518939393939394|        13.87241847826087|\n",
      "|         127|         null|      yellow|  169084.02000000034|    4406.400000000001|                 3374.0|                  11740.71|           6503.969999999997|                    2087.700000000017|           199022.3999999993|         1.4200842385280426|        42.93991210660618|\n",
      "|         101|         null|      yellow|   82257.98999999998|              2001.85|                  897.0|                   3537.35|          3208.9200000000014|                    575.3999999999986|           92594.26000000005|         1.1656942823803966|        139.6007846153845|\n",
      "|         244|         null|      yellow|  1196573.0699999959|   37910.700000000004|                32616.0|        114040.25999999997|          31507.799999999897|                     19846.1999999989|          1466954.4800000018|         1.4254463819567715|        6.270198445263424|\n",
      "|          14|         null|      yellow|   275076.5100000003|              7915.65|                 3948.5|        11569.029999999999|          12673.819999999962|                   2466.9000000000337|                   314414.21|         1.1999254009697875|       105.62253456775281|\n",
      "|           6|         null|      yellow|   6439.110000000001|                 47.5|                   81.0|         600.6600000000001|           904.3200000000003|                   52.800000000000004|           8160.389999999999|          1.247191011235955|       10.134204545454544|\n",
      "|         209|         null|      yellow|  1102859.5099999981|    73076.06000000001|                33035.0|        169422.61999999962|          13919.339999999962|                   20057.099999998663|          1523194.6800000127|           1.51578295853105|        6.510562827612752|\n",
      "|           3|         null|      yellow|   93643.77000000009|   3285.8399999999997|                 1509.0|                    4400.5|                     6811.37|                    935.0999999999981|          110780.72999999997|         1.2358003442340793|        7.879190400000002|\n",
      "|          71|         null|      yellow|   249952.3600000007|    9392.890000000001|                 4232.5|                   9008.15|          12404.329999999967|                    2663.100000000037|           288302.3799999994|         1.2583444592790387|       18.755986081490633|\n",
      "|         100|         null|      yellow|   7746848.139999996|    788633.8500000002|              345662.15|        1249491.7100000256|          154995.11999999982|                   208572.29999975517|        1.1643111070006737E7|         1.4301381686362231|       2.5703857179013943|\n",
      "|          45|         null|      yellow|   863692.6299999986|             62411.67|                26836.0|        112032.42999999986|           9243.509999999997|                   16267.199999998784|           1173533.490000038|         1.5109232560941328|        5.590053443747268|\n",
      "|         186|         null|      yellow|1.5411946419999948E7|   1507581.1400000001|              671402.42|         2730213.459999924|          212505.68999999852|                   404473.79999984044|         2.314774623001213E7|         1.4173607101589882|       2.4761340962279528|\n",
      "|          88|         null|      yellow|  1909370.2400000014|            123990.25|                52843.3|          293623.210000001|           36932.10999999974|                   31995.000000003645|          2624434.2099998095|          1.486161321109408|       4.8124725443050975|\n",
      "|         114|         null|      yellow|   4549954.690000005|             481187.9|               204866.0|         896434.6700000258|           22425.41999999994|                   123276.29999994661|           6976888.880000791|         1.5077862071501231|        2.670040403406166|\n",
      "|         178|         null|      yellow|  26048.840000000004|                993.6|                  477.0|                    1073.2|                     1375.48|                   302.70000000000005|                    30365.17|         1.1883116883116882|         5.41206862745098|\n",
      "|         221|         null|      yellow|  10576.699999999999|                 66.0|                  100.5|        466.94999999999993|          1726.7300000000005|                    63.60000000000002|          13060.479999999998|         1.2783505154639174|       15.179292452830188|\n",
      "|          29|         null|      yellow|  137072.58000000013|               3704.9|                 1996.0|                   5277.18|           5377.430000000003|                   1241.7000000000062|          155083.48999999976|         1.2137014314928425|        86.76959008579601|\n",
      "+------------+-------------+------------+--------------------+---------------------+-----------------------+--------------------------+----------------------------+-------------------------------------+----------------------------+---------------------------+-------------------------+\n",
      "only showing top 20 rows\n",
      "\n"
     ]
    },
    {
     "name": "stderr",
     "output_type": "stream",
     "text": [
      "                                                                                \r"
     ]
    }
   ],
   "source": [
    "df_result.show()"
   ]
  },
  {
   "cell_type": "code",
   "execution_count": 30,
   "id": "9a042a84-1e36-4922-95be-b4f03c8a7f6d",
   "metadata": {},
   "outputs": [
    {
     "name": "stderr",
     "output_type": "stream",
     "text": [
      "                                                                                \r"
     ]
    }
   ],
   "source": [
    "df_result.write.parquet('data/report/revenue/')"
   ]
  },
  {
   "cell_type": "code",
   "execution_count": 31,
   "id": "88dd4cc4-f3ba-4794-91b6-b77ebbb1df50",
   "metadata": {},
   "outputs": [],
   "source": [
    "spark.stop()"
   ]
  },
  {
   "cell_type": "code",
   "execution_count": null,
   "id": "e23eb6f9-5efa-4705-a81b-28202f885767",
   "metadata": {},
   "outputs": [],
   "source": []
  }
 ],
 "metadata": {
  "kernelspec": {
   "display_name": "Python 3 (ipykernel)",
   "language": "python",
   "name": "python3"
  },
  "language_info": {
   "codemirror_mode": {
    "name": "ipython",
    "version": 3
   },
   "file_extension": ".py",
   "mimetype": "text/x-python",
   "name": "python",
   "nbconvert_exporter": "python",
   "pygments_lexer": "ipython3",
   "version": "3.8.10"
  }
 },
 "nbformat": 4,
 "nbformat_minor": 5
}
