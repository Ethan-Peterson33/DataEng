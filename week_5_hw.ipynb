{
 "cells": [
  {
   "cell_type": "code",
   "execution_count": 1,
   "id": "ad24bf4f-8ebf-4760-8f4f-bbaef11276d6",
   "metadata": {},
   "outputs": [
    {
     "name": "stderr",
     "output_type": "stream",
     "text": [
      "Setting default log level to \"WARN\".\n",
      "To adjust logging level use sc.setLogLevel(newLevel). For SparkR, use setLogLevel(newLevel).\n"
     ]
    },
    {
     "name": "stdout",
     "output_type": "stream",
     "text": [
      "24/03/03 23:30:42 WARN NativeCodeLoader: Unable to load native-hadoop library for your platform... using builtin-java classes where applicable\n"
     ]
    }
   ],
   "source": [
    "import findspark\n",
    "import pandas as pd\n",
    "findspark.init()\n",
    "import pyspark\n",
    "from pyspark.sql import SparkSession\n",
    "\n",
    "\n",
    "\n",
    "spark = SparkSession.builder \\\n",
    "    .master(\"local[*]\") \\\n",
    "    .appName('test') \\\n",
    "    .getOrCreate()\n"
   ]
  },
  {
   "cell_type": "code",
   "execution_count": 31,
   "id": "ab9396a4-75e7-439a-8015-ca8d5b8ab782",
   "metadata": {},
   "outputs": [
    {
     "data": {
      "text/plain": [
       "'3.3.2'"
      ]
     },
     "execution_count": 31,
     "metadata": {},
     "output_type": "execute_result"
    }
   ],
   "source": [
    "spark.version"
   ]
  },
  {
   "cell_type": "code",
   "execution_count": 2,
   "id": "fb0f243f-c299-4fbf-a58c-619cca8393bf",
   "metadata": {},
   "outputs": [],
   "source": [
    "fhv_df = pd.read_csv('data/raw/fhv/2019/10/fhv_tripdata_2019_10.csv.gz')\n"
   ]
  },
  {
   "cell_type": "code",
   "execution_count": 5,
   "id": "6c7850b3-1f6e-4c79-b174-9a0a97820950",
   "metadata": {},
   "outputs": [
    {
     "data": {
      "text/html": [
       "<div>\n",
       "<style scoped>\n",
       "    .dataframe tbody tr th:only-of-type {\n",
       "        vertical-align: middle;\n",
       "    }\n",
       "\n",
       "    .dataframe tbody tr th {\n",
       "        vertical-align: top;\n",
       "    }\n",
       "\n",
       "    .dataframe thead th {\n",
       "        text-align: right;\n",
       "    }\n",
       "</style>\n",
       "<table border=\"1\" class=\"dataframe\">\n",
       "  <thead>\n",
       "    <tr style=\"text-align: right;\">\n",
       "      <th></th>\n",
       "      <th>dispatching_base_num</th>\n",
       "      <th>pickup_datetime</th>\n",
       "      <th>dropOff_datetime</th>\n",
       "      <th>PUlocationID</th>\n",
       "      <th>DOlocationID</th>\n",
       "      <th>SR_Flag</th>\n",
       "      <th>Affiliated_base_number</th>\n",
       "    </tr>\n",
       "  </thead>\n",
       "  <tbody>\n",
       "    <tr>\n",
       "      <th>0</th>\n",
       "      <td>B00009</td>\n",
       "      <td>2019-10-01 00:23:00</td>\n",
       "      <td>2019-10-01 00:35:00</td>\n",
       "      <td>264.0</td>\n",
       "      <td>264.0</td>\n",
       "      <td>NaN</td>\n",
       "      <td>B00009</td>\n",
       "    </tr>\n",
       "    <tr>\n",
       "      <th>1</th>\n",
       "      <td>B00013</td>\n",
       "      <td>2019-10-01 00:11:29</td>\n",
       "      <td>2019-10-01 00:13:22</td>\n",
       "      <td>264.0</td>\n",
       "      <td>264.0</td>\n",
       "      <td>NaN</td>\n",
       "      <td>B00013</td>\n",
       "    </tr>\n",
       "    <tr>\n",
       "      <th>2</th>\n",
       "      <td>B00014</td>\n",
       "      <td>2019-10-01 00:11:43</td>\n",
       "      <td>2019-10-01 00:37:20</td>\n",
       "      <td>264.0</td>\n",
       "      <td>264.0</td>\n",
       "      <td>NaN</td>\n",
       "      <td>B00014</td>\n",
       "    </tr>\n",
       "    <tr>\n",
       "      <th>3</th>\n",
       "      <td>B00014</td>\n",
       "      <td>2019-10-01 00:56:29</td>\n",
       "      <td>2019-10-01 00:57:47</td>\n",
       "      <td>264.0</td>\n",
       "      <td>264.0</td>\n",
       "      <td>NaN</td>\n",
       "      <td>B00014</td>\n",
       "    </tr>\n",
       "    <tr>\n",
       "      <th>4</th>\n",
       "      <td>B00014</td>\n",
       "      <td>2019-10-01 00:23:09</td>\n",
       "      <td>2019-10-01 00:28:27</td>\n",
       "      <td>264.0</td>\n",
       "      <td>264.0</td>\n",
       "      <td>NaN</td>\n",
       "      <td>B00014</td>\n",
       "    </tr>\n",
       "  </tbody>\n",
       "</table>\n",
       "</div>"
      ],
      "text/plain": [
       "  dispatching_base_num      pickup_datetime     dropOff_datetime  \\\n",
       "0               B00009  2019-10-01 00:23:00  2019-10-01 00:35:00   \n",
       "1               B00013  2019-10-01 00:11:29  2019-10-01 00:13:22   \n",
       "2               B00014  2019-10-01 00:11:43  2019-10-01 00:37:20   \n",
       "3               B00014  2019-10-01 00:56:29  2019-10-01 00:57:47   \n",
       "4               B00014  2019-10-01 00:23:09  2019-10-01 00:28:27   \n",
       "\n",
       "   PUlocationID  DOlocationID  SR_Flag Affiliated_base_number  \n",
       "0         264.0         264.0      NaN                 B00009  \n",
       "1         264.0         264.0      NaN                 B00013  \n",
       "2         264.0         264.0      NaN                 B00014  \n",
       "3         264.0         264.0      NaN                 B00014  \n",
       "4         264.0         264.0      NaN                 B00014  "
      ]
     },
     "execution_count": 5,
     "metadata": {},
     "output_type": "execute_result"
    }
   ],
   "source": [
    "fhv_df.head()\n"
   ]
  },
  {
   "cell_type": "code",
   "execution_count": 7,
   "id": "905d7e63-acd6-4c23-820d-c21c5804d0e7",
   "metadata": {},
   "outputs": [],
   "source": [
    "from pyspark.sql import types\n",
    "\n",
    "fhv_schema = types.StructType([\n",
    "    types.StructField(\"dispatching_base_num\", types.StringType(), True),\n",
    "    types.StructField(\"pickup_datetime\", types.TimestampType(), True),\n",
    "    types.StructField(\"dropOff_datetime\", types.TimestampType(), True),\n",
    "    types.StructField(\"PUlocationID\", types.IntegerType(), True),\n",
    "    types.StructField(\"DOlocationID\", types.IntegerType(), True),\n",
    "    types.StructField(\"SR_Flag\", types.StringType(), True),\n",
    "    types.StructField(\"Affiliated_base_number\", types.StringType(), True)\n",
    "])"
   ]
  },
  {
   "cell_type": "code",
   "execution_count": 8,
   "id": "721da051-da04-4d80-afa2-e22e2530fcec",
   "metadata": {},
   "outputs": [
    {
     "name": "stdout",
     "output_type": "stream",
     "text": [
      "processing data for 2019/10\n"
     ]
    },
    {
     "name": "stderr",
     "output_type": "stream",
     "text": [
      "                                                                                \r"
     ]
    }
   ],
   "source": [
    "print('processing data for 2019/10')\n",
    "\n",
    "input_path = 'data/raw/fhv/2019/10/'\n",
    "output_path = 'data/pq/fhv/2019/10/'\n",
    "\n",
    "df_fhv= spark.read \\\n",
    "    .option(\"header\", \"true\") \\\n",
    "    .schema(fhv_schema) \\\n",
    "    .csv(input_path)\n",
    "\n",
    "df_fhv \\\n",
    "    .repartition(6) \\\n",
    "    .write.parquet(output_path)"
   ]
  },
  {
   "cell_type": "code",
   "execution_count": 2,
   "id": "4bdad8d5-7aba-4468-99f5-677688d6d162",
   "metadata": {},
   "outputs": [
    {
     "name": "stderr",
     "output_type": "stream",
     "text": [
      "                                                                                \r"
     ]
    }
   ],
   "source": [
    "df_zones = spark.read.parquet('zones/')\n",
    "df_fhv = spark.read.parquet('data/pq/fhv/2019/10/')"
   ]
  },
  {
   "cell_type": "code",
   "execution_count": 13,
   "id": "8227bf53-13b6-4c7b-bc66-2ffe707528f9",
   "metadata": {},
   "outputs": [],
   "source": [
    "df_joined = df_fhv.join(df_zones,df_fhv.PUlocationID == df_zones.LocationID)"
   ]
  },
  {
   "cell_type": "code",
   "execution_count": 15,
   "id": "e15b4b42-33d7-4f8e-b76a-9b20df329bd4",
   "metadata": {},
   "outputs": [
    {
     "name": "stdout",
     "output_type": "stream",
     "text": [
      "+--------------------+-------------------+-------------------+------------+------------+-------+----------------------+\n",
      "|dispatching_base_num|    pickup_datetime|   dropOff_datetime|PUlocationID|DOlocationID|SR_Flag|Affiliated_base_number|\n",
      "+--------------------+-------------------+-------------------+------------+------------+-------+----------------------+\n",
      "|              B02784|2019-10-01 09:55:38|2019-10-01 10:05:43|          89|          85|   null|                  null|\n",
      "|              B02429|2019-10-21 04:15:47|2019-10-21 04:36:04|         264|         264|   null|                B02429|\n",
      "|              B01482|2019-10-19 12:00:00|2019-10-19 12:20:00|         264|         264|   null|                B01482|\n",
      "|              B03015|2019-10-11 14:28:00|2019-10-11 14:32:44|         264|         216|   null|                B03015|\n",
      "|              B01529|2019-10-21 18:00:26|2019-10-21 18:07:21|         264|          80|   null|                B01529|\n",
      "|              B00477|2019-10-03 19:30:35|2019-10-03 20:27:57|         161|          14|   null|                B00477|\n",
      "|              B00937|2019-10-25 06:10:40|2019-10-25 06:29:43|         264|         208|   null|                B00937|\n",
      "|     B00889         |2019-10-30 06:18:02|2019-10-30 06:35:12|         260|         260|   null|       B00889         |\n",
      "|              B01239|2019-10-09 03:39:16|2019-10-09 03:42:07|         264|         254|   null|                B00882|\n",
      "|              B00256|2019-10-27 11:54:37|2019-10-27 12:28:18|         264|         264|   null|                B00256|\n",
      "|              B01087|2019-10-14 18:41:24|2019-10-14 19:02:06|         261|         186|   null|                B01087|\n",
      "|              B02846|2019-10-19 11:42:45|2019-10-19 12:42:42|         264|          23|   null|                B02846|\n",
      "|              B02546|2019-10-17 15:20:32|2019-10-17 15:25:51|         264|         167|   null|                B02546|\n",
      "|              B02803|2019-10-21 05:00:47|2019-10-21 05:03:44|          47|         169|   null|                B02803|\n",
      "|              B01644|2019-10-14 11:34:00|2019-10-14 13:12:00|         264|         264|   null|                B01644|\n",
      "|              B01454|2019-10-13 07:08:41|2019-10-13 07:13:43|         264|         188|   null|                B01454|\n",
      "|              B01239|2019-10-24 06:05:22|2019-10-24 06:15:03|         264|         174|   null|                B00882|\n",
      "|              B01751|2019-10-20 09:49:18|2019-10-20 10:40:59|         264|         264|   null|                B01751|\n",
      "|              B00887|2019-10-06 17:17:28|2019-10-06 18:12:14|         264|         132|   null|                B00887|\n",
      "|              B01362|2019-10-07 11:25:57|2019-10-07 11:39:15|         264|         185|   null|                B01362|\n",
      "+--------------------+-------------------+-------------------+------------+------------+-------+----------------------+\n",
      "only showing top 20 rows\n",
      "\n"
     ]
    }
   ],
   "source": [
    "df_fhv.show()"
   ]
  },
  {
   "cell_type": "code",
   "execution_count": 3,
   "id": "9bae2741-d524-4bda-a980-393526ebe74c",
   "metadata": {},
   "outputs": [],
   "source": [
    "df_fhv.createOrReplaceTempView('fvh_trips')\n",
    "df_zones.createOrReplaceTempView('zones')"
   ]
  },
  {
   "cell_type": "code",
   "execution_count": 5,
   "id": "72e4257e-887b-4c62-8a00-4760e555e053",
   "metadata": {},
   "outputs": [],
   "source": [
    "df_result = spark.sql( \"\"\"\n",
    " SELECT * FROM fvh_trips\n",
    " LIMIT 100;\n",
    " \"\"\")"
   ]
  },
  {
   "cell_type": "code",
   "execution_count": 6,
   "id": "b6d303ff-ced6-472b-82df-85294c718fe7",
   "metadata": {},
   "outputs": [
    {
     "name": "stderr",
     "output_type": "stream",
     "text": [
      "[Stage 2:>                                                          (0 + 4) / 6]\r"
     ]
    },
    {
     "name": "stdout",
     "output_type": "stream",
     "text": [
      "+--------------------+-------------------+-------------------+------------+------------+-------+----------------------+\n",
      "|dispatching_base_num|    pickup_datetime|   dropOff_datetime|PUlocationID|DOlocationID|SR_Flag|Affiliated_base_number|\n",
      "+--------------------+-------------------+-------------------+------------+------------+-------+----------------------+\n",
      "|              B02784|2019-10-01 09:55:38|2019-10-01 10:05:43|          89|          85|   null|                  null|\n",
      "|              B02429|2019-10-21 04:15:47|2019-10-21 04:36:04|         264|         264|   null|                B02429|\n",
      "|              B01482|2019-10-19 12:00:00|2019-10-19 12:20:00|         264|         264|   null|                B01482|\n",
      "|              B03015|2019-10-11 14:28:00|2019-10-11 14:32:44|         264|         216|   null|                B03015|\n",
      "|              B01529|2019-10-21 18:00:26|2019-10-21 18:07:21|         264|          80|   null|                B01529|\n",
      "|              B00477|2019-10-03 19:30:35|2019-10-03 20:27:57|         161|          14|   null|                B00477|\n",
      "|              B00937|2019-10-25 06:10:40|2019-10-25 06:29:43|         264|         208|   null|                B00937|\n",
      "|     B00889         |2019-10-30 06:18:02|2019-10-30 06:35:12|         260|         260|   null|       B00889         |\n",
      "|              B01239|2019-10-09 03:39:16|2019-10-09 03:42:07|         264|         254|   null|                B00882|\n",
      "|              B00256|2019-10-27 11:54:37|2019-10-27 12:28:18|         264|         264|   null|                B00256|\n",
      "|              B01087|2019-10-14 18:41:24|2019-10-14 19:02:06|         261|         186|   null|                B01087|\n",
      "|              B02846|2019-10-19 11:42:45|2019-10-19 12:42:42|         264|          23|   null|                B02846|\n",
      "|              B02546|2019-10-17 15:20:32|2019-10-17 15:25:51|         264|         167|   null|                B02546|\n",
      "|              B02803|2019-10-21 05:00:47|2019-10-21 05:03:44|          47|         169|   null|                B02803|\n",
      "|              B01644|2019-10-14 11:34:00|2019-10-14 13:12:00|         264|         264|   null|                B01644|\n",
      "|              B01454|2019-10-13 07:08:41|2019-10-13 07:13:43|         264|         188|   null|                B01454|\n",
      "|              B01239|2019-10-24 06:05:22|2019-10-24 06:15:03|         264|         174|   null|                B00882|\n",
      "|              B01751|2019-10-20 09:49:18|2019-10-20 10:40:59|         264|         264|   null|                B01751|\n",
      "|              B00887|2019-10-06 17:17:28|2019-10-06 18:12:14|         264|         132|   null|                B00887|\n",
      "|              B01362|2019-10-07 11:25:57|2019-10-07 11:39:15|         264|         185|   null|                B01362|\n",
      "+--------------------+-------------------+-------------------+------------+------------+-------+----------------------+\n",
      "only showing top 20 rows\n",
      "\n"
     ]
    },
    {
     "name": "stderr",
     "output_type": "stream",
     "text": [
      "                                                                                \r"
     ]
    }
   ],
   "source": [
    "df_result.show()"
   ]
  },
  {
   "cell_type": "code",
   "execution_count": 15,
   "id": "dae836d1-8dd7-465c-9298-8b91fc1ea8f3",
   "metadata": {},
   "outputs": [
    {
     "name": "stdout",
     "output_type": "stream",
     "text": [
      "+--------+\n",
      "|count(1)|\n",
      "+--------+\n",
      "|   62610|\n",
      "+--------+\n",
      "\n"
     ]
    }
   ],
   "source": [
    "spark.sql( \"\"\"\n",
    " SELECT count(*) FROM fvh_trips\n",
    " where  date_trunc('day',pickup_datetime) ='2019-10-15'\n",
    " LIMIT 100;\n",
    " \"\"\").show()"
   ]
  },
  {
   "cell_type": "code",
   "execution_count": 30,
   "id": "d18f92c2-a42e-40fa-a809-d5b98d28c540",
   "metadata": {},
   "outputs": [
    {
     "name": "stdout",
     "output_type": "stream",
     "text": [
      "+-------------------------------------------+\n",
      "|((dropOff_datetime - pickup_datetime) * 24)|\n",
      "+-------------------------------------------+\n",
      "|                       INTERVAL '631152 ...|\n",
      "|                       INTERVAL '631152 ...|\n",
      "|                       INTERVAL '87672 1...|\n",
      "|                       INTERVAL '70128 0...|\n",
      "|                       INTERVAL '8794 00...|\n",
      "|                       INTERVAL '8784 04...|\n",
      "|                       INTERVAL '1464 12...|\n",
      "|                       INTERVAL '1056 19...|\n",
      "|                       INTERVAL '1056 06...|\n",
      "|                       INTERVAL '793 13:...|\n",
      "|                       INTERVAL '793 09:...|\n",
      "|                       INTERVAL '793 07:...|\n",
      "|                       INTERVAL '792 23:...|\n",
      "|                       INTERVAL '792 23:...|\n",
      "|                       INTERVAL '792 20:...|\n",
      "|                       INTERVAL '792 19:...|\n",
      "|                       INTERVAL '792 18:...|\n",
      "|                       INTERVAL '792 18:...|\n",
      "|                       INTERVAL '792 18:...|\n",
      "|                       INTERVAL '792 17:...|\n",
      "+-------------------------------------------+\n",
      "only showing top 20 rows\n",
      "\n"
     ]
    }
   ],
   "source": [
    "spark.sql( \"\"\"\n",
    " SELECT ((dropOff_datetime  - pickup_datetime)* 24)  FROM fvh_trips\n",
    " order by 1 desc\n",
    " Limit 100;\n",
    " \"\"\").show()"
   ]
  },
  {
   "cell_type": "code",
   "execution_count": 25,
   "id": "16c6dd24-4214-4dac-a0a7-f467155d3e2f",
   "metadata": {},
   "outputs": [
    {
     "name": "stdout",
     "output_type": "stream",
     "text": [
      "+----------+-------------+--------------------+------------+\n",
      "|LocationID|      Borough|                Zone|service_zone|\n",
      "+----------+-------------+--------------------+------------+\n",
      "|         1|          EWR|      Newark Airport|         EWR|\n",
      "|         2|       Queens|         Jamaica Bay|   Boro Zone|\n",
      "|         3|        Bronx|Allerton/Pelham G...|   Boro Zone|\n",
      "|         4|    Manhattan|       Alphabet City| Yellow Zone|\n",
      "|         5|Staten Island|       Arden Heights|   Boro Zone|\n",
      "|         6|Staten Island|Arrochar/Fort Wad...|   Boro Zone|\n",
      "|         7|       Queens|             Astoria|   Boro Zone|\n",
      "|         8|       Queens|        Astoria Park|   Boro Zone|\n",
      "|         9|       Queens|          Auburndale|   Boro Zone|\n",
      "|        10|       Queens|        Baisley Park|   Boro Zone|\n",
      "|        11|     Brooklyn|          Bath Beach|   Boro Zone|\n",
      "|        12|    Manhattan|        Battery Park| Yellow Zone|\n",
      "|        13|    Manhattan|   Battery Park City| Yellow Zone|\n",
      "|        14|     Brooklyn|           Bay Ridge|   Boro Zone|\n",
      "|        15|       Queens|Bay Terrace/Fort ...|   Boro Zone|\n",
      "|        16|       Queens|             Bayside|   Boro Zone|\n",
      "|        17|     Brooklyn|             Bedford|   Boro Zone|\n",
      "|        18|        Bronx|        Bedford Park|   Boro Zone|\n",
      "|        19|       Queens|           Bellerose|   Boro Zone|\n",
      "|        20|        Bronx|             Belmont|   Boro Zone|\n",
      "+----------+-------------+--------------------+------------+\n",
      "only showing top 20 rows\n",
      "\n"
     ]
    }
   ],
   "source": [
    "spark.sql(\"\"\"\n",
    "SELECT * FROM zones\n",
    "\"\"\").show()"
   ]
  },
  {
   "cell_type": "code",
   "execution_count": 27,
   "id": "636ed0c7-8206-40c4-9f1a-d82a0ca8c2e9",
   "metadata": {},
   "outputs": [
    {
     "name": "stdout",
     "output_type": "stream",
     "text": [
      "+--------------------+--------+\n",
      "|                Zone|count(1)|\n",
      "+--------------------+--------+\n",
      "|         Jamaica Bay|       1|\n",
      "|Governor's Island...|       2|\n",
      "| Green-Wood Cemetery|       5|\n",
      "|       Broad Channel|       8|\n",
      "|     Highbridge Park|      14|\n",
      "|        Battery Park|      15|\n",
      "|Saint Michaels Ce...|      23|\n",
      "|Breezy Point/Fort...|      25|\n",
      "|Marine Park/Floyd...|      26|\n",
      "|        Astoria Park|      29|\n",
      "|    Inwood Hill Park|      39|\n",
      "|       Willets Point|      47|\n",
      "|Forest Park/Highl...|      53|\n",
      "|  Brooklyn Navy Yard|      57|\n",
      "|        Crotona Park|      62|\n",
      "|        Country Club|      77|\n",
      "|     Freshkills Park|      89|\n",
      "|       Prospect Park|      98|\n",
      "|     Columbia Street|     105|\n",
      "|  South Williamsburg|     110|\n",
      "+--------------------+--------+\n",
      "only showing top 20 rows\n",
      "\n"
     ]
    }
   ],
   "source": [
    "spark.sql( \"\"\"\n",
    " SELECT z.Zone, count(*) FROM fvh_trips f\n",
    " inner join zones z on f.PUlocationID  = z.LocationID\n",
    " group by z.Zone\n",
    " order by 2 asc\n",
    " ;\n",
    " \"\"\").show()"
   ]
  },
  {
   "cell_type": "code",
   "execution_count": null,
   "id": "dbfd02e6-4ddb-4b65-9eae-208c8857d141",
   "metadata": {},
   "outputs": [],
   "source": []
  }
 ],
 "metadata": {
  "kernelspec": {
   "display_name": "Python 3 (ipykernel)",
   "language": "python",
   "name": "python3"
  },
  "language_info": {
   "codemirror_mode": {
    "name": "ipython",
    "version": 3
   },
   "file_extension": ".py",
   "mimetype": "text/x-python",
   "name": "python",
   "nbconvert_exporter": "python",
   "pygments_lexer": "ipython3",
   "version": "3.8.10"
  }
 },
 "nbformat": 4,
 "nbformat_minor": 5
}
